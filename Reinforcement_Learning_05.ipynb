{
  "nbformat": 4,
  "nbformat_minor": 0,
  "metadata": {
    "colab": {
      "name": "Reinforcement_Learning_05.ipynb",
      "provenance": [],
      "authorship_tag": "ABX9TyNsEG/I0JRlo3340K9quLk5",
      "include_colab_link": true
    },
    "kernelspec": {
      "name": "python3",
      "display_name": "Python 3"
    }
  },
  "cells": [
    {
      "cell_type": "markdown",
      "metadata": {
        "id": "view-in-github",
        "colab_type": "text"
      },
      "source": [
        "<a href=\"https://colab.research.google.com/github/rpdieego/Reinforcement_Learning/blob/master/Reinforcement_Learning_05.ipynb\" target=\"_parent\"><img src=\"https://colab.research.google.com/assets/colab-badge.svg\" alt=\"Open In Colab\"/></a>"
      ]
    },
    {
      "cell_type": "markdown",
      "metadata": {
        "id": "-oaWPaw6ogxR",
        "colab_type": "text"
      },
      "source": [
        "# Aproximation Methods"
      ]
    },
    {
      "cell_type": "markdown",
      "metadata": {
        "id": "OuorFUK7okj7",
        "colab_type": "text"
      },
      "source": [
        "#### Approximate Monte Carlo Method"
      ]
    },
    {
      "cell_type": "code",
      "metadata": {
        "id": "8IfNfeA6ojx5",
        "colab_type": "code",
        "colab": {}
      },
      "source": [
        "# import relevant libraries\n",
        "import numpy as np\n",
        "import matplotlib.pyplot as plt"
      ],
      "execution_count": 0,
      "outputs": []
    },
    {
      "cell_type": "code",
      "metadata": {
        "id": "PjFwKSh2pFZO",
        "colab_type": "code",
        "colab": {}
      },
      "source": [
        "#grid world class\n",
        "\n",
        "class Grid: # Environment\n",
        "  def __init__ (self, rows, cols, start):\n",
        "    self.rows = rows\n",
        "    self.cols = cols\n",
        "    self.i = start[0]\n",
        "    self.j = start[1]\n",
        "\n",
        "  def set(self, rewards, actions):\n",
        "    # rewards is a dict of: (i,j): r\n",
        "    # actions is a dict of: (i,j): A\n",
        "    self.rewards = rewards\n",
        "    self.actions = actions\n",
        "\n",
        "  def set_state(self,s):\n",
        "    #force state\n",
        "    self.i = s[0]\n",
        "    self.j = s[1]\n",
        "\n",
        "  def current_state(self):\n",
        "    #return the current state\n",
        "    return (self.i, self.j)\n",
        "  \n",
        "  def is_terminal(self, s):\n",
        "    #if state is not listed in the actions dictionary, it means it's a terminal state\n",
        "    return s not in self.actions\n",
        "\n",
        "  def get_next_state(self, s, a):\n",
        "    i, j = s[0], s[1]\n",
        "    if a in self.actions[(i,j)]:\n",
        "      if a == 'U':\n",
        "        i -= 1\n",
        "      elif a =='D':\n",
        "        i += 1\n",
        "      elif a == 'R':\n",
        "        j += 1\n",
        "      elif a == 'L':\n",
        "        j -= 1\n",
        "    return i,j\n",
        "\n",
        "  def move(self, action):\n",
        "    # check if legal move first\n",
        "    if action in self.actions[(self.i, self.j)]:\n",
        "      if action == 'U':\n",
        "        self.i -= 1\n",
        "      elif action == 'D':\n",
        "        self.i += 1\n",
        "      elif action == 'R':\n",
        "        self.j += 1\n",
        "      elif action == 'L':\n",
        "        self.j -= 1\n",
        "    return self.rewards.get((self.i, self.j), 0)\n",
        "\n",
        "  def undo_move(self, action):\n",
        "    if action == 'U':\n",
        "      self.i += 1\n",
        "    elif action == 'D':\n",
        "      self.i -= 1\n",
        "    elif action == 'R':\n",
        "      self.j -= 1\n",
        "    elif action == 'L':\n",
        "      self.j += 1\n",
        "    #should never happen\n",
        "    assert(self.current_state() in self.all_states())\n",
        "  \n",
        "  def game_over(self):\n",
        "    #true if in a state where no actions are possible\n",
        "    return (self.i,self.j) not in self.actions\n",
        "\n",
        "  def all_states(self):\n",
        "    #either a position that has possible next actions or a positions that yields a reward\n",
        "    return set(self.actions.keys()) | set(self.rewards.keys())\n"
      ],
      "execution_count": 0,
      "outputs": []
    },
    {
      "cell_type": "code",
      "metadata": {
        "id": "t2-i6uQjp6Zc",
        "colab_type": "code",
        "colab": {}
      },
      "source": [
        "# define grid environment\n",
        "\n",
        "def standard_grid():\n",
        "  g = Grid(3, 4, (2,0))\n",
        "  rewards = {(0,3): 1, (1,3): -1}\n",
        "  actions = {\n",
        "      (0,0): ('D','R'),\n",
        "      (0,1): ('L','R'),\n",
        "      (0,2): ('L','D','R'),\n",
        "      (1,0): ('U','D'),\n",
        "      (1,2): ('U', 'D', 'R'),\n",
        "      (2,0): ('U','R'),\n",
        "      (2,1): ('L','R'),\n",
        "      (2,2): ('L','R','U'),\n",
        "      (2,3): ('L','U')\n",
        "  }\n",
        "  g.set(rewards, actions)\n",
        "  return g"
      ],
      "execution_count": 0,
      "outputs": []
    },
    {
      "cell_type": "code",
      "metadata": {
        "id": "vdoa2V4Dp-dC",
        "colab_type": "code",
        "colab": {}
      },
      "source": [
        "#define grid environment with step penalties\n",
        "\n",
        "def negative_grid(step_cost=-0.1):\n",
        "  # in this game we want to try to minimize the number of moves\n",
        "  # so we will penalize every move\n",
        "  g = standard_grid()\n",
        "  g.rewards.update({\n",
        "    (0, 0): step_cost,\n",
        "    (0, 1): step_cost,\n",
        "    (0, 2): step_cost,\n",
        "    (1, 0): step_cost,\n",
        "    (1, 2): step_cost,\n",
        "    (2, 0): step_cost,\n",
        "    (2, 1): step_cost,\n",
        "    (2, 2): step_cost,\n",
        "    (2, 3): step_cost,\n",
        "  })\n",
        "  return g"
      ],
      "execution_count": 0,
      "outputs": []
    },
    {
      "cell_type": "code",
      "metadata": {
        "id": "TZ4R9QQ2qBsh",
        "colab_type": "code",
        "colab": {}
      },
      "source": [
        "# auxiliar function to print values\n",
        "def print_values(V,g):\n",
        "  for i in range(g.rows):\n",
        "    print('-------------------------------')\n",
        "    for j in range(g.cols):\n",
        "      v = V.get((i,j),0)\n",
        "      if v>= 0:\n",
        "        print(\" %.2f|\" % v, end=\"\")\n",
        "      else:\n",
        "        print(\"%.2f|\" % v, end=\"\") # - sign take up an extra space\n",
        "    print('')"
      ],
      "execution_count": 0,
      "outputs": []
    },
    {
      "cell_type": "code",
      "metadata": {
        "id": "GcxENSSkqHB9",
        "colab_type": "code",
        "colab": {}
      },
      "source": [
        "# auxiliar function to print policy\n",
        "def print_policy(P,g):\n",
        "  print('Policy \\n')\n",
        "  for i in range(g.rows):\n",
        "    print('-----------------------------')\n",
        "    for j in range(g.cols):\n",
        "      a = P.get((i,j),' ')\n",
        "      print(\"  %s  |\" % a, end='')\n",
        "    print('')\n",
        "  print('\\n')"
      ],
      "execution_count": 0,
      "outputs": []
    },
    {
      "cell_type": "code",
      "metadata": {
        "id": "X8J9CRQuqInJ",
        "colab_type": "code",
        "colab": {}
      },
      "source": [
        "def play_game(grid, policy):\n",
        "\n",
        "  #returns a list of states and corresponding returns\n",
        "\n",
        "  #reset game to restart at random position\n",
        "  #we need to do this, because given our current deterministic policy\n",
        "  #we would never end up at certain states, but we still want to measure their value\n",
        "\n",
        "  start_states = list(grid.actions.keys())\n",
        "  start_idx = np.random.choice(len(start_states))\n",
        "  grid.set_state(start_states[start_idx])\n",
        "\n",
        "  s = grid.current_state()\n",
        "  # list of tuples of (state, reward)\n",
        "  states_and_rewards = [(s,0)]\n",
        "  while not  grid.game_over():\n",
        "    a = policy[s]\n",
        "    r = grid.move(a)\n",
        "    s = grid.current_state()\n",
        "    states_and_rewards.append((s,r))\n",
        "\n",
        "  #Calculate teh returns by working backwards from the terminal state\n",
        "  G = 0\n",
        "  states_and_returns = []\n",
        "  first = True\n",
        "  for s,r in reversed(states_and_rewards):\n",
        "    # value of terminal state is 0 by definition\n",
        "    #we should ignores the first state we encounter (terminal)\n",
        "    # and ignore the last G, which is meaningless since it doesn't correspond to any move\n",
        "    if first:\n",
        "      first = False\n",
        "    else:\n",
        "      states_and_returns.append((s,G))\n",
        "    \n",
        "    G = r + gamma*G\n",
        "\n",
        "  # we want it to be in order of state visited\n",
        "  states_and_returns.reverse()\n",
        "\n",
        "  return states_and_returns\n",
        "\n",
        "\n",
        "\n"
      ],
      "execution_count": 0,
      "outputs": []
    },
    {
      "cell_type": "code",
      "metadata": {
        "id": "qqXq1qsWqdx5",
        "colab_type": "code",
        "colab": {}
      },
      "source": [
        "def random_action(a):\n",
        "  #choose given a with probability 0.5\n",
        "  #choose some other a' != with probability 0.5/3\n",
        "  p = np.random.random()\n",
        "  if p < 0.5:\n",
        "    return a\n",
        "  else:\n",
        "    tmp = list(ALL_POSSIBLE_ACTIONS)\n",
        "    tmp.remove(a)\n",
        "    return np.random.choice(tmp)"
      ],
      "execution_count": 0,
      "outputs": []
    },
    {
      "cell_type": "code",
      "metadata": {
        "id": "tIQGygQ3qh-7",
        "colab_type": "code",
        "colab": {}
      },
      "source": [
        "# definitions:\n",
        "\n",
        "#convergence parameter\n",
        "conv_parameter = 10e-4\n",
        "\n",
        "# discount factor\n",
        "gamma = 0.9\n",
        "\n",
        "#learning rate\n",
        "learning_rate = 0.001"
      ],
      "execution_count": 0,
      "outputs": []
    },
    {
      "cell_type": "code",
      "metadata": {
        "id": "OHIARWZcq5qm",
        "colab_type": "code",
        "colab": {
          "base_uri": "https://localhost:8080/",
          "height": 792
        },
        "outputId": "03b97780-caa8-4710-f2af-bfc5e893c814"
      },
      "source": [
        "#### main\n",
        "\n",
        "#define grid environment\n",
        "grid = standard_grid()\n",
        "\n",
        "#print rewards\n",
        "print('Rewards:')\n",
        "print_values(grid.rewards, grid)\n",
        "print('\\n')\n",
        "\n",
        "# state -> action\n",
        "\n",
        "policy = {\n",
        "    (2,0): 'U',\n",
        "    (1,0): 'U',\n",
        "    (0,0): 'R',\n",
        "    (0,1): 'R',\n",
        "    (0,2): 'R',\n",
        "    (1,2): 'U',\n",
        "    (2,1): 'L',\n",
        "    (2,2): 'U',\n",
        "    (2,3): 'L',\n",
        "}\n",
        "\n",
        "#initialize Theta\n",
        "# our model is V_hat = theta.dot(x)\n",
        "# where x = [row, col, row*col, 1] -> 1 for bias term\n",
        "theta = np.random.randn(4) / 2\n",
        "\n",
        "def s2x(s):\n",
        "  return np.array([s[0] - 1, s[1] - 1.5, s[0]*s[1] - 3, 1])\n",
        "\n",
        "# repeat until convergence\n",
        "deltas = []\n",
        "t = 1.0\n",
        "for it in range(20000):\n",
        "\n",
        "  # decreasing learning rate\n",
        "  if it % 100 == 0:\n",
        "    t += 0.01\n",
        "  alpha = learning_rate / t\n",
        "\n",
        "  # generate an episode using pi\n",
        "  biggest_change = 0\n",
        "  states_and_returns = play_game(grid, policy)\n",
        "  seen_states = set()\n",
        "\n",
        "  for s,G in states_and_returns:\n",
        "    #check if we already seen s (first visit MC policy evaluation)\n",
        "    if s not in seen_states:\n",
        "      old_theta = theta.copy()\n",
        "      x = s2x(s)\n",
        "      V_hat = theta.dot(x)\n",
        "      # grad (V_hat) wrt theta = x\n",
        "      theta += alpha*(G - V_hat)*x\n",
        "      biggest_change = max(biggest_change, np.abs(old_theta - theta).sum())\n",
        "      seen_states.add(s)\n",
        "  deltas.append(biggest_change)\n",
        "\n",
        "plt.plot(deltas)\n",
        "plt.show()\n",
        "\n",
        "# obtain predicted values\n",
        "V = {}\n",
        "states = grid.all_states()\n",
        "for s in states:\n",
        "  if s in grid.actions:\n",
        "    V[s] = theta.dot(s2x(s))\n",
        "  else:\n",
        "    #terminal state or state we cannot otherwise get to\n",
        "    V[s] = 0\n",
        "\n",
        "#print values\n",
        "print('Final Values:')\n",
        "print_values(V,grid)\n",
        "print('\\n')\n",
        "\n",
        "#print policy\n",
        "print('Final Policy')\n",
        "print_policy(policy, grid)\n",
        "print('\\n')"
      ],
      "execution_count": 21,
      "outputs": [
        {
          "output_type": "stream",
          "text": [
            "Rewards:\n",
            "-------------------------------\n",
            " 0.00| 0.00| 0.00| 1.00|\n",
            "-------------------------------\n",
            " 0.00| 0.00| 0.00|-1.00|\n",
            "-------------------------------\n",
            " 0.00| 0.00| 0.00| 0.00|\n",
            "\n",
            "\n"
          ],
          "name": "stdout"
        },
        {
          "output_type": "display_data",
          "data": {
            "image/png": "[encoded data removed]",
            "text/plain": [
              "<Figure size 432x288 with 1 Axes>"
            ]
          },
          "metadata": {
            "tags": [],
            "needs_background": "light"
          }
        },
        {
          "output_type": "stream",
          "text": [
            "Final Values:\n",
            "-------------------------------\n",
            " 0.80| 0.90| 1.00| 0.00|\n",
            "-------------------------------\n",
            " 0.73| 0.00| 0.87| 0.00|\n",
            "-------------------------------\n",
            " 0.65| 0.70| 0.74| 0.79|\n",
            "\n",
            "\n",
            "Final Policy\n",
            "Policy \n",
            "\n",
            "-----------------------------\n",
            "  R  |  R  |  R  |     |\n",
            "-----------------------------\n",
            "  U  |     |  U  |     |\n",
            "-----------------------------\n",
            "  U  |  L  |  U  |  L  |\n",
            "\n",
            "\n",
            "\n",
            "\n"
          ],
          "name": "stdout"
        }
      ]
    },
    {
      "cell_type": "markdown",
      "metadata": {
        "id": "6RxbGDFX0bGX",
        "colab_type": "text"
      },
      "source": [
        "#### TD (0) Semi-Gradient Prediction"
      ]
    },
    {
      "cell_type": "code",
      "metadata": {
        "id": "D-9iZf54xad-",
        "colab_type": "code",
        "colab": {}
      },
      "source": [
        "def play_game(grid,policy):\n",
        "  #return a list of states and corresponding rewards\n",
        "  #start at the designated start state (2,0)\n",
        "  s = (2,0)\n",
        "  grid.set_state(s)\n",
        "  #list of tuples of (state, reward)\n",
        "  states_and_rewards = [(s,0)]\n",
        "  while not grid.game_over():\n",
        "    a = policy[s]\n",
        "    a = random_action(a)\n",
        "    r = grid.move(a)\n",
        "    s = grid.current_state()\n",
        "    states_and_rewards.append((s,r))\n",
        "  return states_and_rewards"
      ],
      "execution_count": 0,
      "outputs": []
    },
    {
      "cell_type": "code",
      "metadata": {
        "id": "VlBogcAz0rwT",
        "colab_type": "code",
        "colab": {}
      },
      "source": [
        "# definitions\n",
        "\n",
        "#convergence parameter\n",
        "conv_parameter = 10e-4\n",
        "\n",
        "# discount factor\n",
        "gamma = 0.9\n",
        "\n",
        "# learning rate\n",
        "alpha = 0.1\n",
        "\n",
        "# Action Space\n",
        "ALL_POSSIBLE_ACTIONS = ('U','D','L','R')"
      ],
      "execution_count": 0,
      "outputs": []
    },
    {
      "cell_type": "code",
      "metadata": {
        "id": "2UhMoGkr0x3P",
        "colab_type": "code",
        "colab": {}
      },
      "source": [
        "class Model:\n",
        "  def __init__(self):\n",
        "    self.theta = np.random.randn(4) /2\n",
        "\n",
        "  # state to feature\n",
        "  def s2x(self,s):\n",
        "    return np.array([s[0] - 1, s[1] - 1.5, s[0]*s[1] - 3, 1])\n",
        "  \n",
        "  def predict(self, s):\n",
        "    x = self.s2x(s)\n",
        "    return self.theta.dot(x)\n",
        "  \n",
        "  def grad(self,s):\n",
        "    return self.s2x(s)\n",
        "\n"
      ],
      "execution_count": 0,
      "outputs": []
    },
    {
      "cell_type": "code",
      "metadata": {
        "id": "QVS9s9Cx1326",
        "colab_type": "code",
        "colab": {
          "base_uri": "https://localhost:8080/",
          "height": 792
        },
        "outputId": "e06ef8e1-eebb-423f-f0bd-63df8aa0e84b"
      },
      "source": [
        "### main section\n",
        "\n",
        "#grid environment\n",
        "grid = standard_grid()\n",
        "\n",
        "# print rewards\n",
        "print('Rewards :')\n",
        "print_values(grid.rewards, grid)\n",
        "print('\\n')\n",
        "\n",
        "# state -> action\n",
        "\n",
        "policy = {\n",
        "    (2,0): 'U',\n",
        "    (1,0): 'U',\n",
        "    (0,0): 'R',\n",
        "    (0,1): 'R',\n",
        "    (0,2): 'R',\n",
        "    (1,2): 'R',\n",
        "    (2,1): 'R',\n",
        "    (2,2): 'R',\n",
        "    (2,3): 'U',\n",
        "}\n",
        "\n",
        "# define model\n",
        "model = Model()\n",
        "\n",
        "#empty list to store deltas\n",
        "deltas = []\n",
        "\n",
        "# repeat until convergence\n",
        "k = 1.0\n",
        "for it in range(20000):\n",
        "  \n",
        "  # descending learning rate\n",
        "  if it % 10 == 0:\n",
        "    k += 0.01\n",
        "  alpha_k = alpha/k\n",
        "  biggest_change = 0\n",
        "\n",
        "  # generate an episode using pi\n",
        "  states_and_rewards = play_game(grid,policy)\n",
        "\n",
        "  # first (s,r) tuple is a state we start in and 0 (no reward at start)\n",
        "  # last (s,r) tuples is the terminal state and 0 (value is 0 by definition)\n",
        "\n",
        "  for t in range(len(states_and_rewards) -1):\n",
        "    s, _ = states_and_rewards[t]\n",
        "    s2, r = states_and_rewards[t+1]\n",
        "\n",
        "    # Update V(s) as we experience the episode\n",
        "\n",
        "    old_theta = model.theta.copy()\n",
        "    if grid.is_terminal(s2):\n",
        "      target = r\n",
        "    else:\n",
        "      target = r + gamma*model.predict(s2)\n",
        "    \n",
        "    model.theta += alpha_k*(target - model.predict(s))*model.grad(s)\n",
        "    biggest_change = max(biggest_change, np.abs(old_theta - model.theta).sum())\n",
        "\n",
        "  deltas.append(biggest_change)\n",
        "\n",
        "#plot deltas\n",
        "plt.plot(deltas)\n",
        "plt.show()\n",
        "\n",
        "#obtain predicted values\n",
        "V = {}\n",
        "states = grid.all_states()\n",
        "for s in states:\n",
        "  if s in grid.actions:\n",
        "    V[s] = model.predict(s)\n",
        "  else:\n",
        "    #terminal state\n",
        "    V[s] = 0\n",
        "\n",
        "\n",
        "#print values\n",
        "print('Final Values:')\n",
        "print_values(V,grid)\n",
        "print('\\n')\n",
        "\n",
        "#print policy\n",
        "print('Final Policy')\n",
        "print_policy(policy, grid)\n",
        "print('\\n')\n",
        "\n",
        "\n",
        "\n"
      ],
      "execution_count": 35,
      "outputs": [
        {
          "output_type": "stream",
          "text": [
            "Rewards :\n",
            "-------------------------------\n",
            " 0.00| 0.00| 0.00| 1.00|\n",
            "-------------------------------\n",
            " 0.00| 0.00| 0.00|-1.00|\n",
            "-------------------------------\n",
            " 0.00| 0.00| 0.00| 0.00|\n",
            "\n",
            "\n"
          ],
          "name": "stdout"
        },
        {
          "output_type": "display_data",
          "data": {
            "image/png": "[encoded data removed]",
            "text/plain": [
              "<Figure size 432x288 with 1 Axes>"
            ]
          },
          "metadata": {
            "tags": [],
            "needs_background": "light"
          }
        },
        {
          "output_type": "stream",
          "text": [
            "Final Values:\n",
            "-------------------------------\n",
            " 0.25| 0.35| 0.46| 0.00|\n",
            "-------------------------------\n",
            " 0.12| 0.00|-0.11| 0.00|\n",
            "-------------------------------\n",
            "-0.01|-0.35|-0.68|-1.02|\n",
            "\n",
            "\n",
            "Final Policy\n",
            "Policy \n",
            "\n",
            "-----------------------------\n",
            "  R  |  R  |  R  |     |\n",
            "-----------------------------\n",
            "  U  |     |  R  |     |\n",
            "-----------------------------\n",
            "  U  |  R  |  R  |  U  |\n",
            "\n",
            "\n",
            "\n",
            "\n"
          ],
          "name": "stdout"
        }
      ]
    },
    {
      "cell_type": "markdown",
      "metadata": {
        "id": "WXxCbRTzAqQr",
        "colab_type": "text"
      },
      "source": [
        "#### Semi Gradient SARSA"
      ]
    },
    {
      "cell_type": "code",
      "metadata": {
        "id": "U5mDvqM23KXv",
        "colab_type": "code",
        "colab": {}
      },
      "source": [
        "def max_dict(d):\n",
        "  # returns the argmax (key) and max (value) from a dictionary\n",
        "  # put this into a function since we are using it so often\n",
        "  max_key = None\n",
        "  max_val = float('-inf')\n",
        "  for k, v in d.items():\n",
        "    if v > max_val:\n",
        "      max_val = v\n",
        "      max_key = k\n",
        "  return max_key, max_val"
      ],
      "execution_count": 0,
      "outputs": []
    },
    {
      "cell_type": "code",
      "metadata": {
        "id": "8wGihQN3BiTf",
        "colab_type": "code",
        "colab": {}
      },
      "source": [
        "def random_action(a, eps=0.1):\n",
        "  #we'll use episilon-soft to ensure all states are visited\n",
        "  p = np.random.random()\n",
        "  if p < (1-eps):\n",
        "    return a\n",
        "  else:\n",
        "    return np.random.choice(ALL_POSSIBLE_ACTIONS)"
      ],
      "execution_count": 0,
      "outputs": []
    },
    {
      "cell_type": "code",
      "metadata": {
        "id": "WqmwRo9DA_Sx",
        "colab_type": "code",
        "colab": {}
      },
      "source": [
        "SA2IDX = {}\n",
        "IDX = 0"
      ],
      "execution_count": 0,
      "outputs": []
    },
    {
      "cell_type": "code",
      "metadata": {
        "id": "O_cBMCp_AxbB",
        "colab_type": "code",
        "colab": {}
      },
      "source": [
        "class Model:\n",
        "  def __init__(self):\n",
        "    self.theta = np.random.randn(25) / np.sqrt(25)\n",
        "    # if we use SA2IDX, a one-hot encoding for every (s,a) pair\n",
        "    # in reality we wouldn't want to do this b/c we have just\n",
        "    # as many params as before\n",
        "    # print \"D:\", IDX\n",
        "    # self.theta = np.random.randn(IDX) / np.sqrt(IDX)\n",
        "\n",
        "  def sa2x(self, s, a):\n",
        "    # NOTE: using just (r, c, r*c, u, d, l, r, 1) is not expressive enough\n",
        "    return np.array([\n",
        "      s[0] - 1              if a == 'U' else 0,\n",
        "      s[1] - 1.5            if a == 'U' else 0,\n",
        "      (s[0]*s[1] - 3)/3     if a == 'U' else 0,\n",
        "      (s[0]*s[0] - 2)/2     if a == 'U' else 0,\n",
        "      (s[1]*s[1] - 4.5)/4.5 if a == 'U' else 0,\n",
        "      1                     if a == 'U' else 0,\n",
        "      s[0] - 1              if a == 'D' else 0,\n",
        "      s[1] - 1.5            if a == 'D' else 0,\n",
        "      (s[0]*s[1] - 3)/3     if a == 'D' else 0,\n",
        "      (s[0]*s[0] - 2)/2     if a == 'D' else 0,\n",
        "      (s[1]*s[1] - 4.5)/4.5 if a == 'D' else 0,\n",
        "      1                     if a == 'D' else 0,\n",
        "      s[0] - 1              if a == 'L' else 0,\n",
        "      s[1] - 1.5            if a == 'L' else 0,\n",
        "      (s[0]*s[1] - 3)/3     if a == 'L' else 0,\n",
        "      (s[0]*s[0] - 2)/2     if a == 'L' else 0,\n",
        "      (s[1]*s[1] - 4.5)/4.5 if a == 'L' else 0,\n",
        "      1                     if a == 'L' else 0,\n",
        "      s[0] - 1              if a == 'R' else 0,\n",
        "      s[1] - 1.5            if a == 'R' else 0,\n",
        "      (s[0]*s[1] - 3)/3     if a == 'R' else 0,\n",
        "      (s[0]*s[0] - 2)/2     if a == 'R' else 0,\n",
        "      (s[1]*s[1] - 4.5)/4.5 if a == 'R' else 0,\n",
        "      1                     if a == 'R' else 0,\n",
        "      1\n",
        "    ])\n",
        "    # if we use SA2IDX, a one-hot encoding for every (s,a) pair\n",
        "    # in reality we wouldn't want to do this b/c we have just\n",
        "    # as many params as before\n",
        "    # x = np.zeros(len(self.theta))\n",
        "    # idx = SA2IDX[s][a]\n",
        "    # x[idx] = 1\n",
        "    # return x\n",
        "\n",
        "  def predict(self, s, a):\n",
        "    x = self.sa2x(s, a)\n",
        "    return self.theta.dot(x)\n",
        "\n",
        "  def grad(self, s, a):\n",
        "    return self.sa2x(s, a)\n",
        "\n",
        "\n",
        "def getQs(model, s):\n",
        "  # we need Q(s,a) to choose an action\n",
        "  # i.e. a = argmax[a]{ Q(s,a) }\n",
        "  Qs = {}\n",
        "  for a in ALL_POSSIBLE_ACTIONS:\n",
        "    q_sa = model.predict(s, a)\n",
        "    Qs[a] = q_sa\n",
        "  return Qs"
      ],
      "execution_count": 0,
      "outputs": []
    },
    {
      "cell_type": "code",
      "metadata": {
        "id": "wl3Gcr32A-Uh",
        "colab_type": "code",
        "colab": {
          "base_uri": "https://localhost:8080/",
          "height": 1000
        },
        "outputId": "fadfa7fe-86bd-4316-fc9e-6daa7a27e8fa"
      },
      "source": [
        "if __name__ == '__main__':\n",
        "  # NOTE: if we use the standard grid, there's a good chance we will end up with\n",
        "  # suboptimal policies\n",
        "  # e.g.\n",
        "  # ---------------------------\n",
        "  #   R  |   R  |   R  |      |\n",
        "  # ---------------------------\n",
        "  #   R* |      |   U  |      |\n",
        "  # ---------------------------\n",
        "  #   U  |   R  |   U  |   L  |\n",
        "  # since going R at (1,0) (shown with a *) incurs no cost, it's OK to keep doing that.\n",
        "  # we'll either end up staying in the same spot, or back to the start (2,0), at which\n",
        "  # point we whould then just go back up, or at (0,0), at which point we can continue\n",
        "  # on right.\n",
        "  # instead, let's penalize each movement so the agent will find a shorter route.\n",
        "  #\n",
        "  # grid = standard_grid()\n",
        "  grid = negative_grid(step_cost=-0.1)\n",
        "\n",
        "  # print rewards\n",
        "  print(\"rewards:\")\n",
        "  print_values(grid.rewards, grid)\n",
        "\n",
        "  # no policy initialization, we will derive our policy from most recent Q\n",
        "  # enumerate all (s,a) pairs, each will have its own weight in our \"dumb\" model\n",
        "  # essentially each weight will be a measure of Q(s,a) itself\n",
        "  states = grid.all_states()\n",
        "  for s in states:\n",
        "    SA2IDX[s] = {}\n",
        "    for a in ALL_POSSIBLE_ACTIONS:\n",
        "      SA2IDX[s][a] = IDX\n",
        "      IDX += 1\n",
        "\n",
        "  # initialize model\n",
        "  model = Model()\n",
        "\n",
        "  # repeat until convergence\n",
        "  t = 1.0\n",
        "  t2 = 1.0\n",
        "  deltas = []\n",
        "  for it in range(20000):\n",
        "    if it % 100 == 0:\n",
        "      t += 0.01\n",
        "      t2 += 0.01\n",
        "    if it % 1000 == 0:\n",
        "      print(\"it:\", it)\n",
        "    alpha_t = alpha / t2\n",
        "\n",
        "    # instead of 'generating' an epsiode, we will PLAY\n",
        "    # an episode within this loop\n",
        "    s = (2, 0) # start state\n",
        "    grid.set_state(s)\n",
        "\n",
        "    # get Q(s) so we can choose the first action\n",
        "    Qs = getQs(model, s)\n",
        "\n",
        "    # the first (s, r) tuple is the state we start in and 0\n",
        "    # (since we don't get a reward) for simply starting the game\n",
        "    # the last (s, r) tuple is the terminal state and the final reward\n",
        "    # the value for the terminal state is by definition 0, so we don't\n",
        "    # care about updating it.\n",
        "    a = max_dict(Qs)[0]\n",
        "    a = random_action(a, eps=0.5/t) # epsilon-greedy\n",
        "    biggest_change = 0\n",
        "    while not grid.game_over():\n",
        "      r = grid.move(a)\n",
        "      s2 = grid.current_state()\n",
        "\n",
        "      # we need the next action as well since Q(s,a) depends on Q(s',a')\n",
        "      # if s2 not in policy then it's a terminal state, all Q are 0\n",
        "      old_theta = model.theta.copy()\n",
        "      if grid.is_terminal(s2):\n",
        "        model.theta += alpha_t*(r - model.predict(s, a))*model.grad(s, a)\n",
        "      else:\n",
        "        # not terminal\n",
        "        Qs2 = getQs(model, s2)\n",
        "        a2 = max_dict(Qs2)[0]\n",
        "        a2 = random_action(a2, eps=0.5/t) # epsilon-greedy\n",
        "\n",
        "        # we will update Q(s,a) AS we experience the episode\n",
        "        model.theta += alpha_t*(r + gamma*model.predict(s2, a2) - model.predict(s, a))*model.grad(s, a)\n",
        "        \n",
        "        # next state becomes current state\n",
        "        s = s2\n",
        "        a = a2\n",
        "\n",
        "      biggest_change = max(biggest_change, np.abs(model.theta - old_theta).sum())\n",
        "    deltas.append(biggest_change)\n",
        "\n",
        "  plt.plot(deltas)\n",
        "  plt.show()\n",
        "\n",
        "  # determine the policy from Q*\n",
        "  # find V* from Q*\n",
        "  policy = {}\n",
        "  V = {}\n",
        "  Q = {}\n",
        "  for s in grid.actions.keys():\n",
        "    Qs = getQs(model, s)\n",
        "    Q[s] = Qs\n",
        "    a, max_q = max_dict(Qs)\n",
        "    policy[s] = a\n",
        "    V[s] = max_q\n",
        "\n",
        "  print(\"values:\")\n",
        "  print_values(V, grid)\n",
        "  print(\"policy:\")\n",
        "  print_policy(policy, grid)"
      ],
      "execution_count": 45,
      "outputs": [
        {
          "output_type": "stream",
          "text": [
            "rewards:\n",
            "-------------------------------\n",
            "-0.10|-0.10|-0.10| 1.00|\n",
            "-------------------------------\n",
            "-0.10| 0.00|-0.10|-1.00|\n",
            "-------------------------------\n",
            "-0.10|-0.10|-0.10|-0.10|\n",
            "it: 0\n",
            "it: 1000\n",
            "it: 2000\n",
            "it: 3000\n",
            "it: 4000\n",
            "it: 5000\n",
            "it: 6000\n",
            "it: 7000\n",
            "it: 8000\n",
            "it: 9000\n",
            "it: 10000\n",
            "it: 11000\n",
            "it: 12000\n",
            "it: 13000\n",
            "it: 14000\n",
            "it: 15000\n",
            "it: 16000\n",
            "it: 17000\n",
            "it: 18000\n",
            "it: 19000\n"
          ],
          "name": "stdout"
        },
        {
          "output_type": "display_data",
          "data": {
            "image/png": "[encoded data removed]",
            "text/plain": [
              "<Figure size 432x288 with 1 Axes>"
            ]
          },
          "metadata": {
            "tags": [],
            "needs_background": "light"
          }
        },
        {
          "output_type": "stream",
          "text": [
            "values:\n",
            "-------------------------------\n",
            " 0.47| 0.69| 0.96| 0.00|\n",
            "-------------------------------\n",
            " 0.35| 0.00| 0.50| 0.00|\n",
            "-------------------------------\n",
            " 0.21| 0.00| 0.07| 0.43|\n",
            "policy:\n",
            "Policy \n",
            "\n",
            "-----------------------------\n",
            "  R  |  R  |  R  |     |\n",
            "-----------------------------\n",
            "  U  |     |  U  |     |\n",
            "-----------------------------\n",
            "  U  |  L  |  U  |  U  |\n",
            "\n",
            "\n"
          ],
          "name": "stdout"
        }
      ]
    },
    {
      "cell_type": "code",
      "metadata": {
        "id": "HXy-8hp-BDC8",
        "colab_type": "code",
        "colab": {}
      },
      "source": [
        ""
      ],
      "execution_count": 0,
      "outputs": []
    }
  ]
}